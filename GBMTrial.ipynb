{
  "nbformat": 4,
  "nbformat_minor": 0,
  "metadata": {
    "colab": {
      "name": "GBMTrial.ipynb",
      "provenance": []
    },
    "kernelspec": {
      "name": "python3",
      "display_name": "Python 3"
    }
  },
  "cells": [
    {
      "cell_type": "code",
      "metadata": {
        "id": "tNtluL51ALWr"
      },
      "source": [
        ""
      ],
      "execution_count": null,
      "outputs": []
    },
    {
      "cell_type": "code",
      "metadata": {
        "id": "N7L42yhRLzPB"
      },
      "source": [
        "import pandas as pd\n",
        "from numpy import loadtxt\n",
        "from xgboost import XGBClassifier,XGBRegressor\n",
        "from sklearn.model_selection import train_test_split\n",
        "from sklearn.metrics import accuracy_score,f1_score\n",
        "#!pip3 install catboost\n"
      ],
      "execution_count": 1,
      "outputs": []
    },
    {
      "cell_type": "code",
      "metadata": {
        "id": "5ClAT00hL1yI",
        "outputId": "fdf1f547-cad9-46fb-af1e-6bcca7303d99",
        "colab": {
          "base_uri": "https://localhost:8080/",
          "height": 85
        }
      },
      "source": [
        "train = pd.read_csv(\"train.csv\")\n",
        "pd.get_dummies(train['F10'], prefix='race')\n",
        "train= pd.concat([train,pd.get_dummies(train['F10'],prefix='race')],axis=1)\n",
        "train= pd.concat([train,pd.get_dummies(train['F11'],prefix='gender')],axis=1)\n",
        "train.drop(['id','F10','F11'],axis=1, inplace=True)\n",
        "\n",
        "train.columns\n"
      ],
      "execution_count": 2,
      "outputs": [
        {
          "output_type": "execute_result",
          "data": {
            "text/plain": [
              "Index(['F1', 'F2', 'F3', 'F4', 'F5', 'F6', 'F7', 'F8', 'F9', 'credit',\n",
              "       'race_ Amer-Indian-Eskimo', 'race_ Asian-Pac-Islander', 'race_ Black',\n",
              "       'race_ Other', 'race_ White', 'gender_ Female', 'gender_ Male'],\n",
              "      dtype='object')"
            ]
          },
          "metadata": {
            "tags": []
          },
          "execution_count": 2
        }
      ]
    },
    {
      "cell_type": "code",
      "metadata": {
        "id": "lDEa_7SyL10w",
        "outputId": "d90b65d7-4830-4a3e-f8b7-0eeebf4753b5",
        "colab": {
          "base_uri": "https://localhost:8080/",
          "height": 34
        }
      },
      "source": [
        "\n",
        "X = (train[['F1', 'F2', 'F3', 'F4', 'F5', 'F6', 'F7', 'F8', 'F9']])\n",
        "Y=train[['credit']]\n",
        "type(X)\n",
        "type(Y)\n"
      ],
      "execution_count": 82,
      "outputs": [
        {
          "output_type": "execute_result",
          "data": {
            "text/plain": [
              "pandas.core.frame.DataFrame"
            ]
          },
          "metadata": {
            "tags": []
          },
          "execution_count": 82
        }
      ]
    },
    {
      "cell_type": "code",
      "metadata": {
        "id": "7pK2_AK1ArTc"
      },
      "source": [
        "X_train, X_test, y_train, y_test = train_test_split(X, Y, test_size=0.25, random_state=4,shuffle=False)\n"
      ],
      "execution_count": 83,
      "outputs": []
    },
    {
      "cell_type": "code",
      "metadata": {
        "id": "SQyd8xarArXr"
      },
      "source": [
        "from sklearn.ensemble import GradientBoostingClassifier,RandomForestClassifier,ExtraTreesClassifier,AdaBoostClassifier, GradientBoostingRegressor,RandomForestRegressor,RandomForestClassifier\n",
        "from sklearn.tree import DecisionTreeClassifier\n",
        "\n",
        "#model= GradientBoostingClassifier(learning_rate=1.0,max_depth=3,max_features=0.4,min_samples_leaf=13,min_samples_split=5,n_estimators=100,subsample=0.8)\n",
        "model= GradientBoostingClassifier(learning_rate=0.5,max_depth=5,max_features=0.3,min_samples_leaf=25,min_samples_split=4,n_estimators=100,subsample=1.0)\n",
        "\n",
        "\n",
        "\n",
        "\n",
        "#model=GradientBoostingClassifier(learning_rate=0.5, max_depth=5, max_features=0.3, min_samples_leaf=13, min_samples_split=4, n_estimators=100, subsample=1.0,tol= 0.0000001,validation_fraction=0.0848061910893144)\n",
        "#model= XGBClassifier(learning_rate=0.5, max_depth=10, min_child_weight=6, n_estimators=100, nthread=1, subsample=0.9500000000000001)\n",
        "\n",
        "\n",
        "\n"
      ],
      "execution_count": 84,
      "outputs": []
    },
    {
      "cell_type": "code",
      "metadata": {
        "id": "7ms-9IUdBtzc",
        "outputId": "25126972-0a59-4f26-c9a7-c1c23736ca34",
        "colab": {
          "base_uri": "https://localhost:8080/",
          "height": 105
        }
      },
      "source": [
        "model.fit(X_train, y_train)\n",
        "print(model.feature_importances_)\n",
        "\n",
        "\n"
      ],
      "execution_count": 85,
      "outputs": [
        {
          "output_type": "stream",
          "text": [
            "/usr/local/lib/python3.6/dist-packages/sklearn/ensemble/_gb.py:1454: DataConversionWarning: A column-vector y was passed when a 1d array was expected. Please change the shape of y to (n_samples, ), for example using ravel().\n",
            "  y = column_or_1d(y, warn=True)\n"
          ],
          "name": "stderr"
        },
        {
          "output_type": "stream",
          "text": [
            "[0.14761846 0.0449867  0.11179232 0.07446073 0.22994721 0.06615535\n",
            " 0.27049077 0.0131459  0.04140255]\n"
          ],
          "name": "stdout"
        }
      ]
    },
    {
      "cell_type": "code",
      "metadata": {
        "id": "1ePK39EbXlAw",
        "outputId": "0a958add-66bf-4d6f-96d6-d01f162768e6",
        "colab": {
          "base_uri": "https://localhost:8080/",
          "height": 51
        }
      },
      "source": [
        "\n",
        "y_pred = model.predict(X_test)\n",
        "y_pred=[round(i) for i in y_pred]\n",
        "accuracy = accuracy_score(y_test, y_pred)\n",
        "print(\"Accuracy: %.2f%%\" % (accuracy * 100.0))\n",
        "f1_metric = f1_score(y_test, y_pred)\n",
        "print(f1_metric)"
      ],
      "execution_count": 86,
      "outputs": [
        {
          "output_type": "stream",
          "text": [
            "Accuracy: 86.51%\n",
            "0.7013057671381936\n"
          ],
          "name": "stdout"
        }
      ]
    },
    {
      "cell_type": "code",
      "metadata": {
        "id": "USEJaHg4mYRc"
      },
      "source": [
        ""
      ],
      "execution_count": null,
      "outputs": []
    },
    {
      "cell_type": "code",
      "metadata": {
        "id": "7zBKcyMGBt2b",
        "outputId": "7d8f7ca0-dd81-4a30-b280-d6ac44a3458a",
        "colab": {
          "base_uri": "https://localhost:8080/",
          "height": 136
        }
      },
      "source": [
        "#print(type(y_test))\n",
        "#print((y_test[\"credit\"].to_list()))\n",
        "#print(list(y_pred))\n",
        "y_test=y_test[\"credit\"].to_list()\n",
        "from nltk import ConfusionMatrix\n",
        "print(ConfusionMatrix(y_test, list(y_pred)))"
      ],
      "execution_count": 87,
      "outputs": [
        {
          "output_type": "stream",
          "text": [
            "  |    0    1 |\n",
            "--+-----------+\n",
            "0 |<5754> 399 |\n",
            "1 |  699<1289>|\n",
            "--+-----------+\n",
            "(row = reference; col = test)\n",
            "\n"
          ],
          "name": "stdout"
        }
      ]
    },
    {
      "cell_type": "code",
      "metadata": {
        "id": "CTm3WaS4Bt5Q",
        "outputId": "b2d2c123-52c2-49af-d044-f8410291ec19",
        "colab": {
          "base_uri": "https://localhost:8080/",
          "height": 330
        }
      },
      "source": [
        "from sklearn.metrics import confusion_matrix\n",
        "c=confusion_matrix(y_test, list(y_pred))\n",
        "print(c)\n",
        "import seaborn as sn\n",
        "import matplotlib.pyplot as plt\n",
        "sn.heatmap(c)\n",
        "plt.ylabel('True label')\n",
        "plt.xlabel('Predicted label')"
      ],
      "execution_count": 88,
      "outputs": [
        {
          "output_type": "stream",
          "text": [
            "[[5754  399]\n",
            " [ 699 1289]]\n"
          ],
          "name": "stdout"
        },
        {
          "output_type": "execute_result",
          "data": {
            "text/plain": [
              "Text(0.5, 15.0, 'Predicted label')"
            ]
          },
          "metadata": {
            "tags": []
          },
          "execution_count": 88
        },
        {
          "output_type": "display_data",
          "data": {
            "image/png": "[encoded data removed]",
            "text/plain": [
              "<Figure size 432x288 with 2 Axes>"
            ]
          },
          "metadata": {
            "tags": [],
            "needs_background": "light"
          }
        }
      ]
    },
    {
      "cell_type": "code",
      "metadata": {
        "id": "RuFoow3TBt7s",
        "outputId": "5fe226b3-01ca-4e99-959e-b1ac5dbb0cc9",
        "colab": {
          "base_uri": "https://localhost:8080/",
          "height": 34
        }
      },
      "source": [
        "from sklearn.metrics import roc_auc_score,roc_curve,auc\n",
        "fpr, tpr, thresholds = roc_curve(y_test, list(y_pred))\n",
        "print(auc(fpr,tpr))"
      ],
      "execution_count": 89,
      "outputs": [
        {
          "output_type": "stream",
          "text": [
            "0.7917719628350307\n"
          ],
          "name": "stdout"
        }
      ]
    },
    {
      "cell_type": "code",
      "metadata": {
        "id": "Xg4sca_lE0xe",
        "outputId": "f053de01-4020-470d-8d85-09b849f959e3",
        "colab": {
          "base_uri": "https://localhost:8080/",
          "height": 295
        }
      },
      "source": [
        "import matplotlib.pyplot as plt\n",
        "plt.plot(fpr, tpr)\n",
        "\n",
        "plt.title(\"ROC Curve\")\n",
        "\n",
        "plt.xlabel(\"False Positive Rate\")\n",
        "\n",
        "plt.ylabel(\"True Positive Rate\")\n",
        "\n",
        "plt.show()"
      ],
      "execution_count": 90,
      "outputs": [
        {
          "output_type": "display_data",
          "data": {
            "image/png": "[encoded data removed]",
            "text/plain": [
              "<Figure size 432x288 with 1 Axes>"
            ]
          },
          "metadata": {
            "tags": [],
            "needs_background": "light"
          }
        }
      ]
    }
  ]
}